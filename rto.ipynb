{
 "cells": [
  {
   "cell_type": "code",
   "execution_count": null,
   "metadata": {},
   "outputs": [],
   "source": []
  },
  {
   "cell_type": "code",
   "execution_count": null,
   "metadata": {},
   "outputs": [
    {
     "name": "stdout",
     "output_type": "stream",
     "text": [
      "Owner Name: ***********\n",
      "Vehicle Number: MP20C9886\n",
      "RTO Number: MP-20\n",
      "RTO Address: Jabalpur, Madhya Pradesh\n",
      "State: Madhya Pradesh\n",
      "RTO Phone Number: -\n",
      "Website: Not Available\n"
     ]
    }
   ],
   "source": [
    "from selenium import webdriver\n",
    "from selenium.webdriver.chrome.service import Service\n",
    "from selenium.webdriver.common.by import By\n",
    "from selenium.webdriver.support.ui import WebDriverWait\n",
    "from selenium.webdriver.support import expected_conditions as EC\n",
    "from webdriver_manager.chrome import ChromeDriverManager\n",
    "import time\n",
    "\n",
    "def fetch_vehicle_details(vehicle_number):\n",
    "    # Set up Selenium WebDriver\n",
    "    service = Service(ChromeDriverManager().install())\n",
    "    driver = webdriver.Chrome(service=service)\n",
    "\n",
    "    try:\n",
    "        # Open the website\n",
    "        url = \"https://www.carinfo.app/rto-vehicle-registration-detail\"\n",
    "        driver.get(url)\n",
    "\n",
    "        time.sleep(5)\n",
    "\n",
    "        wait = WebDriverWait(driver, 10)\n",
    "\n",
    "        # Enter the vehicle number\n",
    "        input_box = wait.until(EC.presence_of_element_located((By.XPATH, \"//input[@placeholder='MH 04 A XXXX']\")))\n",
    "        input_box.send_keys(vehicle_number)\n",
    "\n",
    "        # Click the \"Get RTO Information\" button\n",
    "        get_info_button = driver.find_element(By.XPATH, \"//button[contains(text(), 'Get RTO Information')]\")\n",
    "        get_info_button.click()\n",
    "\n",
    "    \n",
    "        time.sleep(5)\n",
    "\n",
    "        def get_text(label):\n",
    "            \"\"\"Helper function to extract text based on label.\"\"\"\n",
    "            try:\n",
    "                return driver.find_element(By.XPATH, f\"//p[contains(text(), '{label}')]/following-sibling::div//p\").text.strip()\n",
    "            except:\n",
    "                return \"Not Available\"\n",
    "\n",
    "        # Extract RTO Details\n",
    "        rto_number = get_text(\"Number\")\n",
    "        rto_address = get_text(\"Registered RTO\")\n",
    "        state = get_text(\"State\")\n",
    "        rto_phone = get_text(\"RTO Phone number\")\n",
    "\n",
    "        # Extract website URL\n",
    "        try:\n",
    "            website_element = driver.find_element(By.XPATH, \"//a[contains(@href, 'karnataka.gov.in')]\")\n",
    "            website = website_element.get_attribute(\"href\") if website_element else \"Not Available\"\n",
    "        except:\n",
    "            website = \"Not Available\"\n",
    "\n",
    "        # Extract Vehicle Make & Model\n",
    "        try:\n",
    "            vehicle_model = driver.find_element(By.XPATH, \"//p[contains(text(), 'Make & Model')]/following-sibling::p\").text.strip()\n",
    "        except:\n",
    "            vehicle_model = \"Not Available\"\n",
    "\n",
    "        # Extract Owner Name \n",
    "        try:\n",
    "            owner_name = driver.find_element(By.XPATH, \"//p[contains(text(), 'Owner Name')]/following-sibling::p\").text.strip()\n",
    "        except:\n",
    "            owner_name = \"Not Available\"\n",
    "\n",
    "        # Print extracted details\n",
    "        print(f\"Owner Name: {owner_name}\")\n",
    "        print(f\"Vehicle Number: {vehicle_number}\")\n",
    "        print(f\"RTO Number: {rto_number}\")\n",
    "        print(f\"RTO Address: {rto_address}\")\n",
    "        print(f\"State: {state}\")\n",
    "        print(f\"RTO Phone Number: {rto_phone}\")\n",
    "        print(f\"Website: {website}\")\n",
    "\n",
    "    except Exception as e:\n",
    "        print(\"Error:\", str(e))\n",
    "\n",
    "    finally:\n",
    "        driver.quit()\n",
    "\n",
    "# Example Usage\n",
    "fetch_vehicle_details(\"MP20C9886\")\n"
   ]
  },
  {
   "cell_type": "code",
   "execution_count": 1,
   "metadata": {},
   "outputs": [
    {
     "name": "stdout",
     "output_type": "stream",
     "text": [
      "hi\n"
     ]
    }
   ],
   "source": [
    "print(\"hi\")"
   ]
  },
  {
   "cell_type": "code",
   "execution_count": null,
   "metadata": {},
   "outputs": [],
   "source": []
  }
 ],
 "metadata": {
  "kernelspec": {
   "display_name": "Python 3",
   "language": "python",
   "name": "python3"
  },
  "language_info": {
   "codemirror_mode": {
    "name": "ipython",
    "version": 3
   },
   "file_extension": ".py",
   "mimetype": "text/x-python",
   "name": "python",
   "nbconvert_exporter": "python",
   "pygments_lexer": "ipython3",
   "version": "3.12.6"
  }
 },
 "nbformat": 4,
 "nbformat_minor": 2
}
